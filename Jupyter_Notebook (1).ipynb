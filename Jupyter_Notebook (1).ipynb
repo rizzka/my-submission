{
 "cells": [
  {
   "cell_type": "markdown",
   "metadata": {},
   "source": [
    "<center>\n",
    "    <img src=\"https://cf-courses-data.s3.us.cloud-object-storage.appdomain.cloud/IBMDeveloperSkillsNetwork-DS0105EN-SkillsNetwork/labs/Module2/images/SN_web_lightmode.png\" width=\"300\" alt=\"cognitiveclass.ai logo\"  />\n",
    "</center>\n"
   ]
  },
  {
   "cell_type": "markdown",
   "metadata": {},
   "source": [
    "# My Jupyter Notebook on IBM Watson Studio"
   ]
  },
  {
   "cell_type": "markdown",
   "metadata": {},
   "source": [
    "**hi it's rizka** \n",
    "\n",
    "i'm currently a college student"
   ]
  },
  {
   "cell_type": "markdown",
   "metadata": {},
   "source": [
    "_I am interested in data science because i believe such cutting-edge ability could bring the edge over the values contributed\n",
    "to the company and society in this era. Therefore i would learn to gain insights from data through this course._"
   ]
  },
  {
   "cell_type": "markdown",
   "metadata": {},
   "source": [
    "### my code below is supposed to execute 1+2=3"
   ]
  },
  {
   "cell_type": "code",
   "execution_count": 3,
   "metadata": {},
   "outputs": [
    {
     "data": {
      "text/plain": [
       "3"
      ]
     },
     "execution_count": 3,
     "metadata": {},
     "output_type": "execute_result"
    }
   ],
   "source": [
    "1+2"
   ]
  },
  {
   "cell_type": "markdown",
   "metadata": {},
   "source": [
    "name singer|album|rank\n",
    "-|:-:|:-:\n",
    "taylor swift|lover|1\n",
    "taylor swift|1989|2\n",
    "taylor swift|red|3\n",
    "\n",
    "***\n",
    "\n",
    "pic:\n",
    "![alt text](https://i.pinimg.com/564x/4a/f3/d0/4af3d0d1aa16777898a569d4b0634cd0.jpg \"lover album cover\")\n",
    "\n",
    "---\n",
    "\n",
    "you can find the reference of these markdown cells through this [cheatsheet link](https://github.com/adam-p/markdown-here/wiki/Markdown-Cheatsheet \"cheatsheet\")\n",
    "\n",
    "---"
   ]
  }
 ],
 "metadata": {
  "kernelspec": {
   "display_name": "Python",
   "language": "python",
   "name": "conda-env-python-py"
  },
  "language_info": {
   "codemirror_mode": {
    "name": "ipython",
    "version": 3
   },
   "file_extension": ".py",
   "mimetype": "text/x-python",
   "name": "python",
   "nbconvert_exporter": "python",
   "pygments_lexer": "ipython3",
   "version": "3.7.12"
  }
 },
 "nbformat": 4,
 "nbformat_minor": 4
}
